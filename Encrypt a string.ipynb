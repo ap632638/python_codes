{
 "cells": [
  {
   "cell_type": "code",
   "execution_count": 2,
   "metadata": {},
   "outputs": [
    {
     "name": "stdout",
     "output_type": "stream",
     "text": [
      "Qtwjr nuxzr, tw qnuxzr fx ny nx xtrjynrjx pstbs, nx izrrd yjcy zxji ns qfdnsl tzy uwnsy, lwfumnh tw bjg ijxnlsx. Ymj ufxxflj nx fyywngzyji yt fs zspstbs ydujxjyyjw ns ymj 15ym hjsyzwd bmt nx ymtzlmy yt mfaj xhwfrgqji ufwyx tk Hnhjwt'x Ij Knsngzx Gtstwzr jy Rfqtwzr ktw zxj ns f yduj xujhnrjs gttp.\n",
      "-5\n",
      "Lorem ipsum, or lipsum as it is sometimes known, is dummy text used in laying out print, graphic or web designs. The passage is attributed to an unknown typesetter in the 15th century who is thought to have scrambled parts of Cicero's De Finibus Bonorum et Malorum for use in a type specimen book.\n"
     ]
    }
   ],
   "source": [
    "def encrypt(text,num):\n",
    "    encrypted_text=\"\"\n",
    "    if(num>=0):\n",
    "        start_capital=ord('A')\n",
    "        start_small=ord('a')\n",
    "        end_capital=ord('Z')-num\n",
    "        end_small=ord('z')-num\n",
    "        for x in text:\n",
    "            if(x.isalpha()):\n",
    "                asci=ord(x)\n",
    "                if((asci>=start_capital and asci<=end_capital) or (asci>=start_small and asci<=end_small)):\n",
    "                    encrypted_text+=chr(asci+num)\n",
    "                else:\n",
    "                    encrypted_text+=chr(asci+num-26)\n",
    "            else:\n",
    "                encrypted_text+=x\n",
    "    else:\n",
    "        num=abs(num)\n",
    "        start_capital=ord('A')+num\n",
    "        start_small=ord('a')+num\n",
    "        end_capital=ord('Z')\n",
    "        end_small=ord('z')\n",
    "        for x in text:\n",
    "            if(x.isalpha()):\n",
    "                asci=ord(x)\n",
    "                if((asci>=start_capital and asci<=end_capital) or (asci>=start_small and asci<=end_small)):\n",
    "                    encrypted_text+=chr(asci-num)\n",
    "                else:\n",
    "                    encrypted_text+=chr(asci-num+26)\n",
    "            else:\n",
    "                encrypted_text+=x\n",
    "    return encrypted_text\n",
    "text=input()\n",
    "num=int(input())\n",
    "print(encrypt(text,num))"
   ]
  },
  {
   "cell_type": "code",
   "execution_count": 3,
   "metadata": {},
   "outputs": [
    {
     "name": "stdout",
     "output_type": "stream",
     "text": [
      "[2, 3]\n"
     ]
    }
   ],
   "source": [
    "def two_sum(l,target):\n",
    "    for x in range(len(l)-1):\n",
    "        if(l[x]+l[x+1]==target):\n",
    "            return [x,x+1]\n",
    "    return -1\n",
    "l=list(map(int,input().split()))\n",
    "target=int(input())\n",
    "print(two_sum(l,target))"
   ]
  },
  {
   "cell_type": "code",
   "execution_count": null,
   "metadata": {},
   "outputs": [],
   "source": []
  }
 ],
 "metadata": {
  "kernelspec": {
   "display_name": "Python 3",
   "language": "python",
   "name": "python3"
  },
  "language_info": {
   "codemirror_mode": {
    "name": "ipython",
    "version": 3
   },
   "file_extension": ".py",
   "mimetype": "text/x-python",
   "name": "python",
   "nbconvert_exporter": "python",
   "pygments_lexer": "ipython3",
   "version": "3.7.4"
  }
 },
 "nbformat": 4,
 "nbformat_minor": 2
}
